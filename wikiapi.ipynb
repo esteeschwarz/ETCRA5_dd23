{
 "cells": [
  {
   "cell_type": "markdown",
   "metadata": {
    "colab_type": "text",
    "id": "view-in-github"
   },
   "source": [
    "<a href=\"https://colab.research.google.com/github/esteeschwarz/ETCRA5_dd23/blob/master/wikiapi.ipynb\" target=\"_parent\"><img src=\"https://colab.research.google.com/assets/colab-badge.svg\" alt=\"Open In Colab\"/></a>"
   ]
  },
  {
   "cell_type": "code",
   "execution_count": null,
   "metadata": {
    "colab": {
     "base_uri": "https://localhost:8080/",
     "height": 511
    },
    "id": "_Mda7WlY-YXS",
    "outputId": "4b131ccc-0fdb-4595-e688-05d239a7fa72"
   },
   "outputs": [
    {
     "ename": "ImportError",
     "errorDetails": {
      "actions": [
       {
        "action": "open_url",
        "actionText": "Open Examples",
        "url": "/notebooks/snippets/importing_libraries.ipynb"
       }
      ]
     },
     "evalue": "ignored",
     "output_type": "error",
     "traceback": [
      "\u001b[0;31m---------------------------------------------------------------------------\u001b[0m",
      "\u001b[0;31mImportError\u001b[0m                               Traceback (most recent call last)",
      "\u001b[0;32m<ipython-input-3-6242d9f4187e>\u001b[0m in \u001b[0;36m<cell line: 1>\u001b[0;34m()\u001b[0m\n\u001b[0;32m----> 1\u001b[0;31m \u001b[0;32mimport\u001b[0m \u001b[0mpageviewapi\u001b[0m\u001b[0;34m\u001b[0m\u001b[0;34m\u001b[0m\u001b[0m\n\u001b[0m\u001b[1;32m      2\u001b[0m pageviewapi.per_article('en.wikipedia', 'Paris', '20151106', '20151120',\n\u001b[1;32m      3\u001b[0m                         access='all-access', agent='all-agents', granularity='daily')\n",
      "\u001b[0;32m/usr/local/lib/python3.10/dist-packages/pageviewapi/__init__.py\u001b[0m in \u001b[0;36m<module>\u001b[0;34m\u001b[0m\n\u001b[1;32m      1\u001b[0m \u001b[0;34m\"\"\"Python client for wikimedia pageview api.\"\"\"\u001b[0m\u001b[0;34m\u001b[0m\u001b[0;34m\u001b[0m\u001b[0m\n\u001b[1;32m      2\u001b[0m \u001b[0;34m\u001b[0m\u001b[0m\n\u001b[0;32m----> 3\u001b[0;31m from pageviewapi.client import (\n\u001b[0m\u001b[1;32m      4\u001b[0m     \u001b[0mper_article\u001b[0m\u001b[0;34m,\u001b[0m\u001b[0;34m\u001b[0m\u001b[0;34m\u001b[0m\u001b[0m\n\u001b[1;32m      5\u001b[0m     \u001b[0mtop\u001b[0m\u001b[0;34m,\u001b[0m\u001b[0;34m\u001b[0m\u001b[0;34m\u001b[0m\u001b[0m\n",
      "\u001b[0;32m/usr/local/lib/python3.10/dist-packages/pageviewapi/client.py\u001b[0m in \u001b[0;36m<module>\u001b[0;34m\u001b[0m\n\u001b[1;32m      8\u001b[0m \"\"\"\n\u001b[1;32m      9\u001b[0m \u001b[0;34m\u001b[0m\u001b[0m\n\u001b[0;32m---> 10\u001b[0;31m \u001b[0;32mfrom\u001b[0m \u001b[0mattrdict\u001b[0m \u001b[0;32mimport\u001b[0m \u001b[0mAttrDict\u001b[0m\u001b[0;34m\u001b[0m\u001b[0;34m\u001b[0m\u001b[0m\n\u001b[0m\u001b[1;32m     11\u001b[0m \u001b[0;32mimport\u001b[0m \u001b[0mrequests\u001b[0m\u001b[0;34m\u001b[0m\u001b[0;34m\u001b[0m\u001b[0m\n\u001b[1;32m     12\u001b[0m \u001b[0;34m\u001b[0m\u001b[0m\n",
      "\u001b[0;32m/usr/local/lib/python3.10/dist-packages/attrdict/__init__.py\u001b[0m in \u001b[0;36m<module>\u001b[0;34m\u001b[0m\n\u001b[1;32m      3\u001b[0m \u001b[0mkeys\u001b[0m \u001b[0;32mas\u001b[0m \u001b[0mattributes\u001b[0m\u001b[0;34m.\u001b[0m\u001b[0;34m\u001b[0m\u001b[0;34m\u001b[0m\u001b[0m\n\u001b[1;32m      4\u001b[0m \"\"\"\n\u001b[0;32m----> 5\u001b[0;31m \u001b[0;32mfrom\u001b[0m \u001b[0mattrdict\u001b[0m\u001b[0;34m.\u001b[0m\u001b[0mmapping\u001b[0m \u001b[0;32mimport\u001b[0m \u001b[0mAttrMap\u001b[0m\u001b[0;34m\u001b[0m\u001b[0;34m\u001b[0m\u001b[0m\n\u001b[0m\u001b[1;32m      6\u001b[0m \u001b[0;32mfrom\u001b[0m \u001b[0mattrdict\u001b[0m\u001b[0;34m.\u001b[0m\u001b[0mdictionary\u001b[0m \u001b[0;32mimport\u001b[0m \u001b[0mAttrDict\u001b[0m\u001b[0;34m\u001b[0m\u001b[0;34m\u001b[0m\u001b[0m\n\u001b[1;32m      7\u001b[0m \u001b[0;32mfrom\u001b[0m \u001b[0mattrdict\u001b[0m\u001b[0;34m.\u001b[0m\u001b[0mdefault\u001b[0m \u001b[0;32mimport\u001b[0m \u001b[0mAttrDefault\u001b[0m\u001b[0;34m\u001b[0m\u001b[0;34m\u001b[0m\u001b[0m\n",
      "\u001b[0;32m/usr/local/lib/python3.10/dist-packages/attrdict/mapping.py\u001b[0m in \u001b[0;36m<module>\u001b[0;34m\u001b[0m\n\u001b[1;32m      2\u001b[0m \u001b[0mAn\u001b[0m \u001b[0mimplementation\u001b[0m \u001b[0mof\u001b[0m \u001b[0mMutableAttr\u001b[0m\u001b[0;34m.\u001b[0m\u001b[0;34m\u001b[0m\u001b[0;34m\u001b[0m\u001b[0m\n\u001b[1;32m      3\u001b[0m \"\"\"\n\u001b[0;32m----> 4\u001b[0;31m \u001b[0;32mfrom\u001b[0m \u001b[0mcollections\u001b[0m \u001b[0;32mimport\u001b[0m \u001b[0mMapping\u001b[0m\u001b[0;34m\u001b[0m\u001b[0;34m\u001b[0m\u001b[0m\n\u001b[0m\u001b[1;32m      5\u001b[0m \u001b[0;34m\u001b[0m\u001b[0m\n\u001b[1;32m      6\u001b[0m \u001b[0;32mimport\u001b[0m \u001b[0msix\u001b[0m\u001b[0;34m\u001b[0m\u001b[0;34m\u001b[0m\u001b[0m\n",
      "\u001b[0;31mImportError\u001b[0m: cannot import name 'Mapping' from 'collections' (/usr/lib/python3.10/collections/__init__.py)",
      "",
      "\u001b[0;31m---------------------------------------------------------------------------\u001b[0;32m\nNOTE: If your import is failing due to a missing package, you can\nmanually install dependencies using either !pip or !apt.\n\nTo view examples of installing some common dependencies, click the\n\"Open Examples\" button below.\n\u001b[0;31m---------------------------------------------------------------------------\u001b[0m\n"
     ]
    }
   ],
   "source": [
    "import pageviewapi\n",
    "pageviewapi.per_article('en.wikipedia', 'Paris', '20151106', '20151120',\n",
    "                        access='all-access', agent='all-agents', granularity='daily')"
   ]
  },
  {
   "cell_type": "code",
   "execution_count": 1,
   "metadata": {
    "colab": {
     "base_uri": "https://localhost:8080/"
    },
    "id": "NReS9Qcc-_Qi",
    "outputId": "9950b66e-4dec-4d1d-8f45-337e7a655ce5"
   },
   "outputs": [
    {
     "name": "stdout",
     "output_type": "stream",
     "text": [
      "Defaulting to user installation because normal site-packages is not writeable\n",
      "Requirement already satisfied: requests>=2.20.1 in /private/var/containers/Bundle/Application/544DACCA-BEAD-4F8F-8DB4-5FE14D1DEB95/Carnets.app/Library/lib/python3.11/site-packages (2.28.2)\n",
      "Requirement already satisfied: certifi>=2017.4.17 in /private/var/containers/Bundle/Application/544DACCA-BEAD-4F8F-8DB4-5FE14D1DEB95/Carnets.app/Library/lib/python3.11/site-packages (from requests>=2.20.1) (2022.12.7)\n",
      "Requirement already satisfied: urllib3<1.27,>=1.21.1 in /private/var/containers/Bundle/Application/544DACCA-BEAD-4F8F-8DB4-5FE14D1DEB95/Carnets.app/Library/lib/python3.11/site-packages (from requests>=2.20.1) (1.26.14)\n",
      "Requirement already satisfied: charset-normalizer<4,>=2 in /private/var/containers/Bundle/Application/544DACCA-BEAD-4F8F-8DB4-5FE14D1DEB95/Carnets.app/Library/lib/python3.11/site-packages (from requests>=2.20.1) (3.0.1)\n",
      "Requirement already satisfied: idna<4,>=2.5 in /private/var/containers/Bundle/Application/544DACCA-BEAD-4F8F-8DB4-5FE14D1DEB95/Carnets.app/Library/lib/python3.11/site-packages (from requests>=2.20.1) (3.4)\n",
      "\r"
     ]
    },
    {
     "name": "stderr",
     "output_type": "stream",
     "text": [
      "WARNING: You are using pip version 21.2.4; however, version 23.2.1 is available.\n",
      "You should consider upgrading via the '/private/var/containers/Bundle/Application/544DACCA-BEAD-4F8F-8DB4-5FE14D1DEB95/Carnets.app/Library/bin/pythonB -m pip install --upgrade pip' command.\n",
      "\r"
     ]
    }
   ],
   "source": [
    "!pip install \"requests>=2.20.1\"\n"
   ]
  },
  {
   "cell_type": "code",
   "execution_count": 2,
   "metadata": {
    "colab": {
     "base_uri": "https://localhost:8080/"
    },
    "id": "Cz5WAkHXAoK0",
    "outputId": "e36c1455-1c2b-4238-b85c-6dc767fb6b9f"
   },
   "outputs": [
    {
     "name": "stdout",
     "output_type": "stream",
     "text": [
      "Defaulting to user installation because normal site-packages is not writeable\n",
      "Collecting mwparserfromhell>=0.5.0\n",
      "  Downloading mwparserfromhell-0.6.5-cp311-cp311-macosx_10_9_universal2.whl (123 kB)\n",
      "Installing collected packages: mwparserfromhell\n",
      "Successfully installed mwparserfromhell-0.6.5\n",
      "\r"
     ]
    },
    {
     "name": "stderr",
     "output_type": "stream",
     "text": [
      "WARNING: You are using pip version 21.2.4; however, version 23.2.1 is available.\n",
      "You should consider upgrading via the '/private/var/containers/Bundle/Application/544DACCA-BEAD-4F8F-8DB4-5FE14D1DEB95/Carnets.app/Library/bin/pythonC -m pip install --upgrade pip' command.\n",
      "\r"
     ]
    }
   ],
   "source": [
    "!pip install \"mwparserfromhell>=0.5.0\""
   ]
  },
  {
   "cell_type": "code",
   "execution_count": 3,
   "metadata": {
    "colab": {
     "base_uri": "https://localhost:8080/"
    },
    "id": "CpbaiN5uAzxq",
    "outputId": "64799448-7b2e-4c35-f897-74989623823d"
   },
   "outputs": [
    {
     "name": "stdout",
     "output_type": "stream",
     "text": [
      "Defaulting to user installation because normal site-packages is not writeable\n",
      "Collecting wikitextparser>=0.47.5\n",
      "  Downloading wikitextparser-0.54.0-py3-none-any.whl (66 kB)\n",
      "Requirement already satisfied: wcwidth in /private/var/containers/Bundle/Application/544DACCA-BEAD-4F8F-8DB4-5FE14D1DEB95/Carnets.app/Library/lib/python3.11/site-packages (from wikitextparser>=0.47.5) (0.2.6)\n",
      "Requirement already satisfied: regex>=2022.9.11 in /private/var/containers/Bundle/Application/544DACCA-BEAD-4F8F-8DB4-5FE14D1DEB95/Carnets.app/Library/lib/python3.11/site-packages (from wikitextparser>=0.47.5) (2022.10.31)\n",
      "Installing collected packages: wikitextparser\n",
      "Successfully installed wikitextparser-0.54.0\n",
      "\r"
     ]
    },
    {
     "name": "stderr",
     "output_type": "stream",
     "text": [
      "WARNING: You are using pip version 21.2.4; however, version 23.2.1 is available.\n",
      "You should consider upgrading via the '/private/var/containers/Bundle/Application/544DACCA-BEAD-4F8F-8DB4-5FE14D1DEB95/Carnets.app/Library/bin/pythonB -m pip install --upgrade pip' command.\n",
      "\r"
     ]
    }
   ],
   "source": [
    "!pip install \"wikitextparser>=0.47.5\""
   ]
  },
  {
   "cell_type": "code",
   "execution_count": 4,
   "metadata": {
    "colab": {
     "base_uri": "https://localhost:8080/"
    },
    "id": "Kt-nytUgA_XM",
    "outputId": "29391ae6-b35a-41eb-ea88-f4716f406f22"
   },
   "outputs": [
    {
     "name": "stdout",
     "output_type": "stream",
     "text": [
      "Defaulting to user installation because normal site-packages is not writeable\n",
      "Collecting pywikibot\n",
      "  Downloading pywikibot-8.4.0-py3-none-any.whl (704 kB)\n",
      "Requirement already satisfied: requests>=2.21.0 in /private/var/containers/Bundle/Application/544DACCA-BEAD-4F8F-8DB4-5FE14D1DEB95/Carnets.app/Library/lib/python3.11/site-packages (from pywikibot) (2.28.2)\n",
      "Requirement already satisfied: mwparserfromhell>=0.5.2 in /private/var/mobile/Containers/Data/Application/27A7C4C9-5B80-4726-9391-D72498A9880A/Library/lib/python3.11/site-packages (from pywikibot) (0.6.5)\n",
      "Requirement already satisfied: setuptools>=48.0.0 in /private/var/containers/Bundle/Application/544DACCA-BEAD-4F8F-8DB4-5FE14D1DEB95/Carnets.app/Library/lib/python3.11/site-packages (from pywikibot) (67.0.0)\n",
      "Requirement already satisfied: certifi>=2017.4.17 in /private/var/containers/Bundle/Application/544DACCA-BEAD-4F8F-8DB4-5FE14D1DEB95/Carnets.app/Library/lib/python3.11/site-packages (from requests>=2.21.0->pywikibot) (2022.12.7)\n",
      "Requirement already satisfied: urllib3<1.27,>=1.21.1 in /private/var/containers/Bundle/Application/544DACCA-BEAD-4F8F-8DB4-5FE14D1DEB95/Carnets.app/Library/lib/python3.11/site-packages (from requests>=2.21.0->pywikibot) (1.26.14)\n",
      "Requirement already satisfied: charset-normalizer<4,>=2 in /private/var/containers/Bundle/Application/544DACCA-BEAD-4F8F-8DB4-5FE14D1DEB95/Carnets.app/Library/lib/python3.11/site-packages (from requests>=2.21.0->pywikibot) (3.0.1)\n",
      "Requirement already satisfied: idna<4,>=2.5 in /private/var/containers/Bundle/Application/544DACCA-BEAD-4F8F-8DB4-5FE14D1DEB95/Carnets.app/Library/lib/python3.11/site-packages (from requests>=2.21.0->pywikibot) (3.4)\n",
      "Installing collected packages: pywikibot\n",
      "Successfully installed pywikibot-8.4.0\n",
      "\r"
     ]
    },
    {
     "name": "stderr",
     "output_type": "stream",
     "text": [
      "WARNING: You are using pip version 21.2.4; however, version 23.2.1 is available.\n",
      "You should consider upgrading via the '/private/var/containers/Bundle/Application/544DACCA-BEAD-4F8F-8DB4-5FE14D1DEB95/Carnets.app/Library/bin/pythonB -m pip install --upgrade pip' command.\n",
      "\r"
     ]
    }
   ],
   "source": [
    "!pip install pywikibot"
   ]
  },
  {
   "cell_type": "code",
   "execution_count": 12,
   "metadata": {},
   "outputs": [
    {
     "name": "stdout",
     "output_type": "stream",
     "text": [
      "Defaulting to user installation because normal site-packages is not writeable\n",
      "\r"
     ]
    },
    {
     "name": "stderr",
     "output_type": "stream",
     "text": [
      "DEPRECATION: Loading egg at /private/var/containers/Bundle/Application/544DACCA-BEAD-4F8F-8DB4-5FE14D1DEB95/Carnets.app/Library/lib/python3.11/site-packages/jupyterlab-3.4.8-py3.11.egg is deprecated. pip 23.3 will enforce this behaviour change. A possible replacement is to use pip for package installation..\n",
      "DEPRECATION: Loading egg at /private/var/containers/Bundle/Application/544DACCA-BEAD-4F8F-8DB4-5FE14D1DEB95/Carnets.app/Library/lib/python3.11/site-packages/rasterio-1.3.4-py3.11-macosx-11.5-x86_64.egg is deprecated. pip 23.3 will enforce this behaviour change. A possible replacement is to use pip for package installation..\n",
      "DEPRECATION: Loading egg at /private/var/containers/Bundle/Application/544DACCA-BEAD-4F8F-8DB4-5FE14D1DEB95/Carnets.app/Library/lib/python3.11/site-packages/Fiona-1.8.22-py3.11-macosx-11.5-x86_64.egg is deprecated. pip 23.3 will enforce this behaviour change. A possible replacement is to use pip for package installation..\n",
      "DEPRECATION: Loading egg at /private/var/containers/Bundle/Application/544DACCA-BEAD-4F8F-8DB4-5FE14D1DEB95/Carnets.app/Library/lib/python3.11/site-packages/Shapely-1.8.5.post1-py3.11-macosx-11.5-x86_64.egg is deprecated. pip 23.3 will enforce this behaviour change. A possible replacement is to use pip for package installation..\n",
      "DEPRECATION: Loading egg at /private/var/containers/Bundle/Application/544DACCA-BEAD-4F8F-8DB4-5FE14D1DEB95/Carnets.app/Library/lib/python3.11/site-packages/pyproj-3.4.1-py3.11-macosx-11.5-x86_64.egg is deprecated. pip 23.3 will enforce this behaviour change. A possible replacement is to use pip for package installation..\n",
      "DEPRECATION: Loading egg at /private/var/containers/Bundle/Application/544DACCA-BEAD-4F8F-8DB4-5FE14D1DEB95/Carnets.app/Library/lib/python3.11/site-packages/pyFFTW-0.12.0-py3.11-macosx-11.5-x86_64.egg is deprecated. pip 23.3 will enforce this behaviour change. A possible replacement is to use pip for package installation..\n",
      "\r"
     ]
    },
    {
     "name": "stdout",
     "output_type": "stream",
     "text": [
      "Requirement already satisfied: pip in /var/mobile/Containers/Data/Application/27A7C4C9-5B80-4726-9391-D72498A9880A/Library/lib/python3.11/site-packages (23.2.1)\n",
      "\r"
     ]
    },
    {
     "name": "stderr",
     "output_type": "stream",
     "text": [
      "DEPRECATION: Loading egg at /private/var/containers/Bundle/Application/544DACCA-BEAD-4F8F-8DB4-5FE14D1DEB95/Carnets.app/Library/lib/python3.11/site-packages/scikit_build-0.11.2.dev202+g9cc7823-py3.11.egg is deprecated. pip 23.3 will enforce this behaviour change. A possible replacement is to use pip for package installation..\n",
      "DEPRECATION: Loading egg at /private/var/containers/Bundle/Application/544DACCA-BEAD-4F8F-8DB4-5FE14D1DEB95/Carnets.app/Library/lib/python3.11/site-packages/mpmath-1.2.1-py3.11.egg is deprecated. pip 23.3 will enforce this behaviour change. A possible replacement is to use pip for package installation..\n",
      "DEPRECATION: Loading egg at /private/var/containers/Bundle/Application/544DACCA-BEAD-4F8F-8DB4-5FE14D1DEB95/Carnets.app/Library/lib/python3.11/site-packages/jupyter_server-1.23.5-py3.11.egg is deprecated. pip 23.3 will enforce this behaviour change. A possible replacement is to use pip for package installation..\n",
      "DEPRECATION: Loading egg at /private/var/containers/Bundle/Application/544DACCA-BEAD-4F8F-8DB4-5FE14D1DEB95/Carnets.app/Library/lib/python3.11/site-packages/ipympl-0.9.2-py3.11.egg is deprecated. pip 23.3 will enforce this behaviour change. A possible replacement is to use pip for package installation..\n",
      "DEPRECATION: Loading egg at /private/var/containers/Bundle/Application/544DACCA-BEAD-4F8F-8DB4-5FE14D1DEB95/Carnets.app/Library/lib/python3.11/site-packages/pyerfa-2.0.0.1-py3.11-macosx-11.5-x86_64.egg is deprecated. pip 23.3 will enforce this behaviour change. A possible replacement is to use pip for package installation..\n",
      "DEPRECATION: Loading egg at /private/var/containers/Bundle/Application/544DACCA-BEAD-4F8F-8DB4-5FE14D1DEB95/Carnets.app/Library/lib/python3.11/site-packages/pandas-1.5.2-py3.11-macosx-11.5-x86_64.egg is deprecated. pip 23.3 will enforce this behaviour change. A possible replacement is to use pip for package installation..\n",
      "DEPRECATION: Loading egg at /private/var/containers/Bundle/Application/544DACCA-BEAD-4F8F-8DB4-5FE14D1DEB95/Carnets.app/Library/lib/python3.11/site-packages/retrolab-0.3.21-py3.11.egg is deprecated. pip 23.3 will enforce this behaviour change. A possible replacement is to use pip for package installation..\n",
      "DEPRECATION: Loading egg at /private/var/containers/Bundle/Application/544DACCA-BEAD-4F8F-8DB4-5FE14D1DEB95/Carnets.app/Library/lib/python3.11/site-packages/jupyter_bokeh-3.0.5-py3.11.egg is deprecated. pip 23.3 will enforce this behaviour change. A possible replacement is to use pip for package installation..\n",
      "DEPRECATION: Loading egg at /private/var/containers/Bundle/Application/544DACCA-BEAD-4F8F-8DB4-5FE14D1DEB95/Carnets.app/Library/lib/python3.11/site-packages/Rtree-1.0.1-py3.11-macosx-11.5-x86_64.egg is deprecated. pip 23.3 will enforce this behaviour change. A possible replacement is to use pip for package installation..\n",
      "DEPRECATION: Loading egg at /private/var/containers/Bundle/Application/544DACCA-BEAD-4F8F-8DB4-5FE14D1DEB95/Carnets.app/Library/lib/python3.11/site-packages/opencv_contrib_python_headless-4.5.2+1ccaef6-py3.11-macosx-11.0-x86_64.egg is deprecated. pip 23.3 will enforce this behaviour change. A possible replacement is to use pip for package installation..\n",
      "DEPRECATION: Loading egg at /private/var/containers/Bundle/Application/544DACCA-BEAD-4F8F-8DB4-5FE14D1DEB95/Carnets.app/Library/lib/python3.11/site-packages/pyzmq-24.0.1-py3.11-macosx-11.5-x86_64.egg is deprecated. pip 23.3 will enforce this behaviour change. A possible replacement is to use pip for package installation..\n",
      "\r"
     ]
    }
   ],
   "source": [
    "!/private/var/containers/Bundle/Application/544DACCA-BEAD-4F8F-8DB4-5FE14D1DEB95/Carnets.app/Library/bin/pythonB -m pip install --upgrade pip"
   ]
  },
  {
   "cell_type": "code",
   "execution_count": 5,
   "metadata": {
    "colab": {
     "base_uri": "https://localhost:8080/"
    },
    "id": "aJGKS4vQCJbd",
    "outputId": "fc0c6fa9-b162-412b-8d67-049f3fb2c0de"
   },
   "outputs": [
    {
     "name": "stdout",
     "output_type": "stream",
     "text": [
      "/private/var/containers/Bundle/Application/544DACCA-BEAD-4F8F-8DB4-5FE14D1DEB95/Carnets.app/Library/bin/pythonA\n"
     ]
    }
   ],
   "source": [
    "import sys\n",
    "print(sys.executable)"
   ]
  },
  {
   "cell_type": "code",
   "execution_count": 9,
   "metadata": {},
   "outputs": [
    {
     "name": "stdout",
     "output_type": "stream",
     "text": [
      "Defaulting to user installation because normal site-packages is not writeable\n",
      "Requirement already satisfied: pip in /private/var/mobile/Containers/Data/Application/27A7C4C9-5B80-4726-9391-D72498A9880A/Library/lib/python3.11/site-packages (21.2.4)\n",
      "Collecting pip\n",
      "  Downloading pip-23.2.1-py3-none-any.whl (2.1 MB)\n",
      "Installing collected packages: pip\n",
      "  Attempting uninstall: pip\n",
      "    Found existing installation: pip 21.2.4\n",
      "    Uninstalling pip-21.2.4:\n",
      "      Successfully uninstalled pip-21.2.4\n",
      "Successfully installed pip-23.2.1\n",
      "\r"
     ]
    }
   ],
   "source": [
    "!pip install --upgrade pip"
   ]
  },
  {
   "cell_type": "code",
   "execution_count": 13,
   "metadata": {},
   "outputs": [
    {
     "name": "stdout",
     "output_type": "stream",
     "text": [
      "Defaulting to user installation because normal site-packages is not writeable\n",
      "\r"
     ]
    },
    {
     "name": "stderr",
     "output_type": "stream",
     "text": [
      "DEPRECATION: Loading egg at /private/var/containers/Bundle/Application/544DACCA-BEAD-4F8F-8DB4-5FE14D1DEB95/Carnets.app/Library/lib/python3.11/site-packages/jupyterlab-3.4.8-py3.11.egg is deprecated. pip 23.3 will enforce this behaviour change. A possible replacement is to use pip for package installation..\n",
      "DEPRECATION: Loading egg at /private/var/containers/Bundle/Application/544DACCA-BEAD-4F8F-8DB4-5FE14D1DEB95/Carnets.app/Library/lib/python3.11/site-packages/rasterio-1.3.4-py3.11-macosx-11.5-x86_64.egg is deprecated. pip 23.3 will enforce this behaviour change. A possible replacement is to use pip for package installation..\n",
      "DEPRECATION: Loading egg at /private/var/containers/Bundle/Application/544DACCA-BEAD-4F8F-8DB4-5FE14D1DEB95/Carnets.app/Library/lib/python3.11/site-packages/Fiona-1.8.22-py3.11-macosx-11.5-x86_64.egg is deprecated. pip 23.3 will enforce this behaviour change. A possible replacement is to use pip for package installation..\n",
      "DEPRECATION: Loading egg at /private/var/containers/Bundle/Application/544DACCA-BEAD-4F8F-8DB4-5FE14D1DEB95/Carnets.app/Library/lib/python3.11/site-packages/Shapely-1.8.5.post1-py3.11-macosx-11.5-x86_64.egg is deprecated. pip 23.3 will enforce this behaviour change. A possible replacement is to use pip for package installation..\n",
      "DEPRECATION: Loading egg at /private/var/containers/Bundle/Application/544DACCA-BEAD-4F8F-8DB4-5FE14D1DEB95/Carnets.app/Library/lib/python3.11/site-packages/pyproj-3.4.1-py3.11-macosx-11.5-x86_64.egg is deprecated. pip 23.3 will enforce this behaviour change. A possible replacement is to use pip for package installation..\n",
      "DEPRECATION: Loading egg at /private/var/containers/Bundle/Application/544DACCA-BEAD-4F8F-8DB4-5FE14D1DEB95/Carnets.app/Library/lib/python3.11/site-packages/pyFFTW-0.12.0-py3.11-macosx-11.5-x86_64.egg is deprecated. pip 23.3 will enforce this behaviour change. A possible replacement is to use pip for package installation..\n",
      "DEPRECATION: Loading egg at /private/var/containers/Bundle/Application/544DACCA-BEAD-4F8F-8DB4-5FE14D1DEB95/Carnets.app/Library/lib/python3.11/site-packages/scikit_build-0.11.2.dev202+g9cc7823-py3.11.egg is deprecated. pip 23.3 will enforce this behaviour change. A possible replacement is to use pip for package installation..\n",
      "DEPRECATION: Loading egg at /private/var/containers/Bundle/Application/544DACCA-BEAD-4F8F-8DB4-5FE14D1DEB95/Carnets.app/Library/lib/python3.11/site-packages/mpmath-1.2.1-py3.11.egg is deprecated. pip 23.3 will enforce this behaviour change. A possible replacement is to use pip for package installation..\n",
      "DEPRECATION: Loading egg at /private/var/containers/Bundle/Application/544DACCA-BEAD-4F8F-8DB4-5FE14D1DEB95/Carnets.app/Library/lib/python3.11/site-packages/jupyter_server-1.23.5-py3.11.egg is deprecated. pip 23.3 will enforce this behaviour change. A possible replacement is to use pip for package installation..\n",
      "DEPRECATION: Loading egg at /private/var/containers/Bundle/Application/544DACCA-BEAD-4F8F-8DB4-5FE14D1DEB95/Carnets.app/Library/lib/python3.11/site-packages/ipympl-0.9.2-py3.11.egg is deprecated. pip 23.3 will enforce this behaviour change. A possible replacement is to use pip for package installation..\n",
      "DEPRECATION: Loading egg at /private/var/containers/Bundle/Application/544DACCA-BEAD-4F8F-8DB4-5FE14D1DEB95/Carnets.app/Library/lib/python3.11/site-packages/pyerfa-2.0.0.1-py3.11-macosx-11.5-x86_64.egg is deprecated. pip 23.3 will enforce this behaviour change. A possible replacement is to use pip for package installation..\n",
      "DEPRECATION: Loading egg at /private/var/containers/Bundle/Application/544DACCA-BEAD-4F8F-8DB4-5FE14D1DEB95/Carnets.app/Library/lib/python3.11/site-packages/pandas-1.5.2-py3.11-macosx-11.5-x86_64.egg is deprecated. pip 23.3 will enforce this behaviour change. A possible replacement is to use pip for package installation..\n",
      "DEPRECATION: Loading egg at /private/var/containers/Bundle/Application/544DACCA-BEAD-4F8F-8DB4-5FE14D1DEB95/Carnets.app/Library/lib/python3.11/site-packages/retrolab-0.3.21-py3.11.egg is deprecated. pip 23.3 will enforce this behaviour change. A possible replacement is to use pip for package installation..\n",
      "DEPRECATION: Loading egg at /private/var/containers/Bundle/Application/544DACCA-BEAD-4F8F-8DB4-5FE14D1DEB95/Carnets.app/Library/lib/python3.11/site-packages/jupyter_bokeh-3.0.5-py3.11.egg is deprecated. pip 23.3 will enforce this behaviour change. A possible replacement is to use pip for package installation..\n",
      "DEPRECATION: Loading egg at /private/var/containers/Bundle/Application/544DACCA-BEAD-4F8F-8DB4-5FE14D1DEB95/Carnets.app/Library/lib/python3.11/site-packages/Rtree-1.0.1-py3.11-macosx-11.5-x86_64.egg is deprecated. pip 23.3 will enforce this behaviour change. A possible replacement is to use pip for package installation..\n",
      "DEPRECATION: Loading egg at /private/var/containers/Bundle/Application/544DACCA-BEAD-4F8F-8DB4-5FE14D1DEB95/Carnets.app/Library/lib/python3.11/site-packages/opencv_contrib_python_headless-4.5.2+1ccaef6-py3.11-macosx-11.0-x86_64.egg is deprecated. pip 23.3 will enforce this behaviour change. A possible replacement is to use pip for package installation..\n",
      "DEPRECATION: Loading egg at /private/var/containers/Bundle/Application/544DACCA-BEAD-4F8F-8DB4-5FE14D1DEB95/Carnets.app/Library/lib/python3.11/site-packages/pyzmq-24.0.1-py3.11-macosx-11.5-x86_64.egg is deprecated. pip 23.3 will enforce this behaviour change. A possible replacement is to use pip for package installation..\n",
      "ERROR: Could not find a version that satisfies the requirement lzma (from versions: none)\n",
      "ERROR: No matching distribution found for lzma\n",
      "\r"
     ]
    }
   ],
   "source": [
    "!pip install lzma"
   ]
  },
  {
   "cell_type": "code",
   "execution_count": 6,
   "metadata": {
    "colab": {
     "base_uri": "https://localhost:8080/"
    },
    "id": "GDwqObP9DNJ8",
    "outputId": "0b2034f1-ac25-49dc-95d1-442bae19cbe1"
   },
   "outputs": [
    {
     "name": "stderr",
     "output_type": "stream",
     "text": [
      "Traceback (most recent call last):\n",
      "  File \"/var/mobile/Containers/Data/Application/27A7C4C9-5B80-4726-9391-D72498A9880A/Library/bin/pwb\", line 5, in <module>\n",
      "    from pywikibot.scripts.wrapper import run\n",
      "  File \"/var/mobile/Containers/Data/Application/27A7C4C9-5B80-4726-9391-D72498A9880A/Library/lib/python3.11/site-packages/pywikibot/__init__.py\", line 19, in <module>\n",
      "    from pywikibot import config as _config\n",
      "  File \"/var/mobile/Containers/Data/Application/27A7C4C9-5B80-4726-9391-D72498A9880A/Library/lib/python3.11/site-packages/pywikibot/config.py\", line 68, in <module>\n",
      "    from pywikibot.logging import error, info, warning\n",
      "  File \"/var/mobile/Containers/Data/Application/27A7C4C9-5B80-4726-9391-D72498A9880A/Library/lib/python3.11/site-packages/pywikibot/logging.py\", line 36, in <module>\n",
      "    from pywikibot.tools import deprecated_args, issue_deprecation_warning\n",
      "  File \"/var/mobile/Containers/Data/Application/27A7C4C9-5B80-4726-9391-D72498A9880A/Library/lib/python3.11/site-packages/pywikibot/tools/__init__.py\", line 12, in <module>\n",
      "    import lzma\n",
      "  File \"/private/var/containers/Bundle/Application/544DACCA-BEAD-4F8F-8DB4-5FE14D1DEB95/Carnets.app/Library/lib/python3.11/lzma.py\", line 27, in <module>\n",
      "    from _lzma import *\n",
      "ModuleNotFoundError: No module named '_lzma'\n",
      "\r"
     ]
    }
   ],
   "source": [
    "!pwb generate_user_files"
   ]
  },
  {
   "cell_type": "code",
   "execution_count": null,
   "metadata": {
    "id": "iy2PuMxQBTsg"
   },
   "outputs": [],
   "source": [
    "!pip install pageviewapi"
   ]
  },
  {
   "cell_type": "code",
   "execution_count": null,
   "metadata": {
    "colab": {
     "base_uri": "https://localhost:8080/"
    },
    "id": "q_3XcDHcEd34",
    "outputId": "59aa5330-4975-410c-ac8b-7929fcbf150a"
   },
   "outputs": [
    {
     "name": "stdout",
     "output_type": "stream",
     "text": [
      "/bin/bash: line 1: /usr/local/lib/python3.10/dist-packages/pywikibot/scripts/generate_user_files.py: Permission denied\n"
     ]
    }
   ],
   "source": [
    "!/usr/local/lib/python3.10/dist-packages/pywikibot/scripts/generate_user_files.py"
   ]
  },
  {
   "cell_type": "code",
   "execution_count": null,
   "metadata": {
    "colab": {
     "base_uri": "https://localhost:8080/"
    },
    "id": "upImqKzAEygN",
    "outputId": "941a0e3f-ccc6-4c6d-d19e-d9c2c02279dc"
   },
   "outputs": [
    {
     "name": "stdout",
     "output_type": "stream",
     "text": [
      "/bin/bash: line 1: /usr/local/lib/python3.10/dist-packages/pywikibot/scripts/login: No such file or directory\n"
     ]
    }
   ],
   "source": [
    "!/usr/local/lib/python3.10/dist-packages/pywikibot/scripts/login"
   ]
  },
  {
   "cell_type": "code",
   "execution_count": null,
   "metadata": {
    "colab": {
     "base_uri": "https://localhost:8080/",
     "height": 889
    },
    "id": "QZl-KlSyDR1V",
    "outputId": "9d783f88-3325-424c-e6c5-67764891eb52"
   },
   "outputs": [
    {
     "ename": "RuntimeError",
     "evalue": "ignored",
     "output_type": "error",
     "traceback": [
      "\u001b[0;31m---------------------------------------------------------------------------\u001b[0m",
      "\u001b[0;31mRuntimeError\u001b[0m                              Traceback (most recent call last)",
      "\u001b[0;32m<ipython-input-15-89e9d6cc6900>\u001b[0m in \u001b[0;36m<cell line: 1>\u001b[0;34m()\u001b[0m\n\u001b[0;32m----> 1\u001b[0;31m \u001b[0;32mimport\u001b[0m \u001b[0mpywikibot\u001b[0m\u001b[0;34m\u001b[0m\u001b[0;34m\u001b[0m\u001b[0m\n\u001b[0m",
      "\u001b[0;32m/usr/local/lib/python3.10/dist-packages/pywikibot/__init__.py\u001b[0m in \u001b[0;36m<module>\u001b[0;34m\u001b[0m\n\u001b[1;32m     17\u001b[0m \u001b[0;32mfrom\u001b[0m \u001b[0mwarnings\u001b[0m \u001b[0;32mimport\u001b[0m \u001b[0mwarn\u001b[0m\u001b[0;34m\u001b[0m\u001b[0;34m\u001b[0m\u001b[0m\n\u001b[1;32m     18\u001b[0m \u001b[0;34m\u001b[0m\u001b[0m\n\u001b[0;32m---> 19\u001b[0;31m \u001b[0;32mfrom\u001b[0m \u001b[0mpywikibot\u001b[0m \u001b[0;32mimport\u001b[0m \u001b[0mconfig\u001b[0m \u001b[0;32mas\u001b[0m \u001b[0m_config\u001b[0m\u001b[0;34m\u001b[0m\u001b[0;34m\u001b[0m\u001b[0m\n\u001b[0m\u001b[1;32m     20\u001b[0m \u001b[0;32mfrom\u001b[0m \u001b[0mpywikibot\u001b[0m \u001b[0;32mimport\u001b[0m \u001b[0mexceptions\u001b[0m\u001b[0;34m\u001b[0m\u001b[0;34m\u001b[0m\u001b[0m\n\u001b[1;32m     21\u001b[0m from pywikibot.__metadata__ import (\n",
      "\u001b[0;32m/usr/local/lib/python3.10/dist-packages/pywikibot/config.py\u001b[0m in \u001b[0;36m<module>\u001b[0;34m\u001b[0m\n\u001b[1;32m    415\u001b[0m \u001b[0;34m\u001b[0m\u001b[0m\n\u001b[1;32m    416\u001b[0m \u001b[0;31m# Save base_dir for use by other modules\u001b[0m\u001b[0;34m\u001b[0m\u001b[0;34m\u001b[0m\u001b[0m\n\u001b[0;32m--> 417\u001b[0;31m \u001b[0mbase_dir\u001b[0m \u001b[0;34m=\u001b[0m \u001b[0mget_base_dir\u001b[0m\u001b[0;34m(\u001b[0m\u001b[0mconfig_file\u001b[0m\u001b[0;34m=\u001b[0m\u001b[0muser_config_file\u001b[0m\u001b[0;34m)\u001b[0m\u001b[0;34m\u001b[0m\u001b[0;34m\u001b[0m\u001b[0m\n\u001b[0m\u001b[1;32m    418\u001b[0m \u001b[0;34m\u001b[0m\u001b[0m\n\u001b[1;32m    419\u001b[0m \u001b[0;32mfor\u001b[0m \u001b[0marg\u001b[0m \u001b[0;32min\u001b[0m \u001b[0msys\u001b[0m\u001b[0;34m.\u001b[0m\u001b[0margv\u001b[0m\u001b[0;34m[\u001b[0m\u001b[0;36m1\u001b[0m\u001b[0;34m:\u001b[0m\u001b[0;34m]\u001b[0m\u001b[0;34m:\u001b[0m\u001b[0;34m\u001b[0m\u001b[0;34m\u001b[0m\u001b[0m\n",
      "\u001b[0;32m/usr/local/lib/python3.10/dist-packages/pywikibot/config.py\u001b[0m in \u001b[0;36mget_base_dir\u001b[0;34m(test_directory, config_file)\u001b[0m\n\u001b[1;32m    404\u001b[0m                 \u001b[0;34m'\\n\\n    '\u001b[0m\u001b[0;34m.\u001b[0m\u001b[0mformat\u001b[0m\u001b[0;34m(\u001b[0m\u001b[0mconfig_file\u001b[0m\u001b[0;34m)\u001b[0m\u001b[0;34m\u001b[0m\u001b[0;34m\u001b[0m\u001b[0m\n\u001b[1;32m    405\u001b[0m             ) + get_base_dir.__doc__\n\u001b[0;32m--> 406\u001b[0;31m             \u001b[0;32mraise\u001b[0m \u001b[0mRuntimeError\u001b[0m\u001b[0;34m(\u001b[0m\u001b[0mexc_text\u001b[0m\u001b[0;34m)\u001b[0m\u001b[0;34m\u001b[0m\u001b[0;34m\u001b[0m\u001b[0m\n\u001b[0m\u001b[1;32m    407\u001b[0m \u001b[0;34m\u001b[0m\u001b[0m\n\u001b[1;32m    408\u001b[0m         \u001b[0;32mif\u001b[0m \u001b[0m__no_user_config\u001b[0m \u001b[0;34m!=\u001b[0m \u001b[0;34m'2'\u001b[0m\u001b[0;34m:\u001b[0m\u001b[0;34m\u001b[0m\u001b[0;34m\u001b[0m\u001b[0m\n",
      "\u001b[0;31mRuntimeError\u001b[0m: No user-config.py found in directory '/content'.\n\nPlease check that user-config.py is stored in the correct location.\nDirectory where user-config.py is searched is determined as follows:\n\n    Return the directory in which user-specific information is stored.\n\n    This is determined in the following order:\n     1.  If the script was called with a `-dir:` argument, use the\n         directory provided in this argument.\n     2.  If the user has a `PYWIKIBOT_DIR` environment variable, use the\n         value of it.\n     3.  If `user-config` is present in current directory, use the\n         current directory.\n     4.  If `user-config` is present in `pwb.py` directory, use that\n         directory\n     5.  Use (and if necessary create) a `'pywikibot'` folder under\n         `'Application Data'` or `'AppData\\Roaming'` (Windows) or\n         `'.pywikibot'` directory (Unix and similar) under the user's\n         home directory.\n\n    Set `PYWIKIBOT_NO_USER_CONFIG=1` to disable loading user config file\n    (`user-config.py`) or install Pywikibot as a site-package.\n\n    .. versionchanged:: 7.7\n       Added the *config_file* parameter.\n\n    :param test_directory: Assume that a user config file exists in this\n        directory. Used to test whether placing a user config file in this\n        directory will cause it to be selected as the base directory.\n    :param config_file: filename of the user config file\n    "
     ]
    }
   ],
   "source": [
    "import pywikibot"
   ]
  }
 ],
 "metadata": {
  "colab": {
   "authorship_tag": "ABX9TyOuS/Id3GgewLFnMJ/J/ksW",
   "include_colab_link": true,
   "provenance": []
  },
  "kernelspec": {
   "display_name": "Python 3 (ipykernel)",
   "language": "python",
   "name": "python3"
  },
  "language_info": {
   "codemirror_mode": {
    "name": "ipython",
    "version": 3
   },
   "file_extension": ".py",
   "mimetype": "text/x-python",
   "name": "python",
   "nbconvert_exporter": "python",
   "pygments_lexer": "ipython3",
   "version": "3.11.0"
  }
 },
 "nbformat": 4,
 "nbformat_minor": 1
}
